{
 "cells": [
  {
   "cell_type": "code",
   "execution_count": 1,
   "id": "3f5bea53",
   "metadata": {},
   "outputs": [],
   "source": [
    "import numpy as np\n",
    "import pandas as pd\n",
    "from tensorflow.keras.preprocessing.image import ImageDataGenerator\n",
    "from tensorflow.keras.models import Model, Sequential\n",
    "from tensorflow.keras.layers import Dense, Flatten\n",
    "from tensorflow.keras.applications import VGG16\n",
    "import matplotlib.pyplot as plt"
   ]
  },
  {
   "cell_type": "code",
   "execution_count": 2,
   "id": "9189c033",
   "metadata": {},
   "outputs": [
    {
     "name": "stdout",
     "output_type": "stream",
     "text": [
      "Found 9144 images belonging to 102 classes.\n"
     ]
    }
   ],
   "source": [
    "dataset_dir = \"caltech-101-img\"\n",
    "\n",
    "dataset_datagen = ImageDataGenerator(rescale=1.0/255)\n",
    "dataset_generator = dataset_datagen.flow_from_directory(dataset_dir, batch_size=2000, target_size=(64,64), class_mode='categorical')"
   ]
  },
  {
   "cell_type": "code",
   "execution_count": 3,
   "id": "12a51ba4",
   "metadata": {},
   "outputs": [],
   "source": [
    "x_train, y_train = dataset_generator[0]\n",
    "x_test, y_test = dataset_generator[1]"
   ]
  },
  {
   "cell_type": "code",
   "execution_count": 4,
   "id": "7db5d627",
   "metadata": {},
   "outputs": [],
   "source": [
    "weights_path=\"vgg16_weights_tf_dim_ordering_tf_kernels_notop.h5\"\n",
    "base_model = VGG16(weights=weights_path, include_top=False, input_shape=(64, 64, 3))"
   ]
  },
  {
   "cell_type": "code",
   "execution_count": 5,
   "id": "203f5741",
   "metadata": {},
   "outputs": [],
   "source": [
    "for layer in base_model.layers:\n",
    "    layer.trainable=False"
   ]
  },
  {
   "cell_type": "code",
   "execution_count": 6,
   "id": "7fa3795e",
   "metadata": {},
   "outputs": [
    {
     "name": "stdout",
     "output_type": "stream",
     "text": [
      "Epoch 1/10\n",
      "32/32 [==============================] - 25s 760ms/step - loss: 4.0050 - accuracy: 0.1935 - val_loss: 3.3639 - val_accuracy: 0.2955\n",
      "Epoch 2/10\n",
      "32/32 [==============================] - 24s 756ms/step - loss: 3.0907 - accuracy: 0.3350 - val_loss: 2.9203 - val_accuracy: 0.3820\n",
      "Epoch 3/10\n",
      "32/32 [==============================] - 24s 762ms/step - loss: 2.5748 - accuracy: 0.4500 - val_loss: 2.6107 - val_accuracy: 0.4425\n",
      "Epoch 4/10\n",
      "32/32 [==============================] - 24s 770ms/step - loss: 2.1700 - accuracy: 0.5245 - val_loss: 2.3661 - val_accuracy: 0.4855\n",
      "Epoch 5/10\n",
      "32/32 [==============================] - 24s 773ms/step - loss: 1.8403 - accuracy: 0.5920 - val_loss: 2.2428 - val_accuracy: 0.4970\n",
      "Epoch 6/10\n",
      "32/32 [==============================] - 25s 778ms/step - loss: 1.6093 - accuracy: 0.6565 - val_loss: 2.1033 - val_accuracy: 0.5270\n",
      "Epoch 7/10\n",
      "32/32 [==============================] - 25s 778ms/step - loss: 1.4125 - accuracy: 0.6870 - val_loss: 2.0156 - val_accuracy: 0.5405\n",
      "Epoch 8/10\n",
      "32/32 [==============================] - 25s 792ms/step - loss: 1.2356 - accuracy: 0.7320 - val_loss: 1.9529 - val_accuracy: 0.5470\n",
      "Epoch 9/10\n",
      "32/32 [==============================] - 25s 786ms/step - loss: 1.1096 - accuracy: 0.7590 - val_loss: 1.9172 - val_accuracy: 0.5525\n",
      "Epoch 10/10\n",
      "32/32 [==============================] - 26s 813ms/step - loss: 0.9766 - accuracy: 0.7990 - val_loss: 1.8498 - val_accuracy: 0.5655\n"
     ]
    },
    {
     "data": {
      "text/plain": [
       "<keras.src.callbacks.History at 0x2bca1e5b550>"
      ]
     },
     "execution_count": 6,
     "metadata": {},
     "output_type": "execute_result"
    }
   ],
   "source": [
    "x = Flatten()(base_model.output)\n",
    "x = Dense(64, activation='relu')(x)\n",
    "predictions = Dense(102, activation = \"softmax\")(x)\n",
    "model = Model(inputs=base_model.input, outputs=predictions)\n",
    "model.compile(loss=\"categorical_crossentropy\", optimizer=\"adam\", metrics=['accuracy'])\n",
    "model.fit(x_train, y_train, validation_data=(x_test, y_test), batch_size=64, epochs=10)"
   ]
  },
  {
   "cell_type": "code",
   "execution_count": 7,
   "id": "2a791059",
   "metadata": {},
   "outputs": [
    {
     "name": "stdout",
     "output_type": "stream",
     "text": [
      "63/63 [==============================] - 14s 222ms/step\n"
     ]
    }
   ],
   "source": [
    "predicted_value = model.predict(x_test)\n",
    "labels = list(dataset_generator.class_indices.keys())"
   ]
  },
  {
   "cell_type": "code",
   "execution_count": 17,
   "id": "1da52f2e",
   "metadata": {},
   "outputs": [
    {
     "name": "stdout",
     "output_type": "stream",
     "text": [
      "butterfly\n",
      "butterfly\n"
     ]
    },
    {
     "data": {
      "image/png": "[encoded data removed]",
      "text/plain": [
       "<Figure size 640x480 with 1 Axes>"
      ]
     },
     "metadata": {},
     "output_type": "display_data"
    }
   ],
   "source": [
    "n=95\n",
    "plt.imshow(x_test[n])\n",
    "print(labels[np.argmax(predicted_value[n])])\n",
    "print(labels[np.argmax(y_test[n])])"
   ]
  }
 ],
 "metadata": {
  "kernelspec": {
   "display_name": "Python 3 (ipykernel)",
   "language": "python",
   "name": "python3"
  },
  "language_info": {
   "codemirror_mode": {
    "name": "ipython",
    "version": 3
   },
   "file_extension": ".py",
   "mimetype": "text/x-python",
   "name": "python",
   "nbconvert_exporter": "python",
   "pygments_lexer": "ipython3",
   "version": "3.9.5"
  }
 },
 "nbformat": 4,
 "nbformat_minor": 5
}
