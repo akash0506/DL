{
 "cells": [
  {
   "cell_type": "code",
   "execution_count": 1,
   "id": "5a055c65",
   "metadata": {},
   "outputs": [],
   "source": [
    "# dataset : https://www.kaggle.com/datasets/imbikramsaha/caltech-101\n",
    "# model link : https://www.kaggle.com/datasets/keras/vgg16/"
   ]
  },
  {
   "cell_type": "code",
   "execution_count": 2,
   "id": "1dce5684",
   "metadata": {},
   "outputs": [],
   "source": [
    "import tensorflow as tf\n",
    "from tensorflow import keras\n",
    "import numpy as np"
   ]
  },
  {
   "cell_type": "code",
   "execution_count": 3,
   "id": "7a4047d8",
   "metadata": {},
   "outputs": [],
   "source": [
    "from tensorflow.keras.preprocessing.image import ImageDataGenerator"
   ]
  },
  {
   "cell_type": "code",
   "execution_count": 4,
   "id": "546dbf23",
   "metadata": {},
   "outputs": [
    {
     "name": "stdout",
     "output_type": "stream",
     "text": [
      "Found 9144 images belonging to 102 classes.\n"
     ]
    }
   ],
   "source": [
    "dataset_dir = \"caltech-101-img\" #Specifies the directory path where the dataset is located\n",
    "dataset_datagen = ImageDataGenerator(rescale=1.0 / 255,)\n",
    "#normalises the image\n",
    "\n",
    "# # here batch_size is the number of images in each batch\n",
    "batch_size = 2000\n",
    "dataset_generator = dataset_datagen.flow_from_directory(dataset_dir,\n",
    "                                                        target_size=(64, 64),batch_size=batch_size,class_mode='categorical')"
   ]
  },
  {
   "cell_type": "code",
   "execution_count": 5,
   "id": "f22f7f30",
   "metadata": {},
   "outputs": [
    {
     "name": "stdout",
     "output_type": "stream",
     "text": [
      "2000\n",
      "2000\n"
     ]
    }
   ],
   "source": [
    "x_train, y_train =  dataset_generator[0]\n",
    "x_test, y_test = dataset_generator[1]\n",
    "\n",
    "print(len(x_train))\n",
    "print(len(x_test))"
   ]
  },
  {
   "cell_type": "code",
   "execution_count": 6,
   "id": "76a5878f",
   "metadata": {},
   "outputs": [],
   "source": [
    "from tensorflow.keras.models import Model\n",
    "from tensorflow.keras.layers import Dense, Flatten\n",
    "from tensorflow.keras.optimizers import Adam"
   ]
  },
  {
   "cell_type": "code",
   "execution_count": 7,
   "id": "2c599aaa",
   "metadata": {},
   "outputs": [],
   "source": [
    "from tensorflow.keras.applications import VGG16"
   ]
  },
  {
   "cell_type": "code",
   "execution_count": 8,
   "id": "8b9b2d85",
   "metadata": {},
   "outputs": [],
   "source": [
    "weights_path = \"vgg16_weights_tf_dim_ordering_tf_kernels_notop.h5\"\n",
    "base_model = VGG16(weights=weights_path, include_top=False, input_shape=(64, 64, 3))"
   ]
  },
  {
   "cell_type": "code",
   "execution_count": 9,
   "id": "f0892cea",
   "metadata": {},
   "outputs": [],
   "source": [
    "for layer in base_model.layers:\n",
    "   layer.trainable = False"
   ]
  },
  {
   "cell_type": "code",
   "execution_count": 10,
   "id": "b25a0c97",
   "metadata": {},
   "outputs": [],
   "source": [
    "x = Flatten()(base_model.output)\n",
    "# Explanation: This line adds a Flatten layer to the output of the base_model. The Flatten layer is used to transform the 3D tensor output from the convolutional base (which is usually the output of the last convolutional layer) into a 1D tensor. This flattening step is necessary when transitioning from convolutional layers to densely connected layers.\n",
    "# Example: Suppose the output shape of base_model is (7, 7, 512). This means you have a 3D tensor with dimensions 7x7x512. Applying the Flatten layer converts this 3D tensor into a 1D tensor by unraveling the values along the dimensions. In this case, the resulting 1D tensor would have a size of 7 * 7 * 512 = 25088.\n",
    "x = Dense(64, activation='relu')(x)\n",
    "predictions = Dense(102, activation='softmax')(x)\n",
    "\n",
    "# Create the model\n",
    "model = Model(inputs=base_model.input, outputs=predictions)\n",
    "# Compile the model\n",
    "model.compile(optimizer=\"adam\", loss='categorical_crossentropy', metrics=['accuracy'])"
   ]
  },
  {
   "cell_type": "code",
   "execution_count": 11,
   "id": "ba0a99c5",
   "metadata": {},
   "outputs": [
    {
     "name": "stdout",
     "output_type": "stream",
     "text": [
      "Epoch 1/10\n",
      "32/32 [==============================] - 26s 797ms/step - loss: 4.0381 - accuracy: 0.1865 - val_loss: 3.4886 - val_accuracy: 0.2770\n",
      "Epoch 2/10\n",
      "32/32 [==============================] - 24s 776ms/step - loss: 3.1434 - accuracy: 0.3280 - val_loss: 3.0363 - val_accuracy: 0.3420\n",
      "Epoch 3/10\n",
      "32/32 [==============================] - 25s 787ms/step - loss: 2.6575 - accuracy: 0.4340 - val_loss: 2.7139 - val_accuracy: 0.4255\n",
      "Epoch 4/10\n",
      "32/32 [==============================] - 25s 782ms/step - loss: 2.2778 - accuracy: 0.5015 - val_loss: 2.4631 - val_accuracy: 0.4725\n",
      "Epoch 5/10\n",
      "32/32 [==============================] - 25s 782ms/step - loss: 1.9556 - accuracy: 0.5725 - val_loss: 2.2854 - val_accuracy: 0.5075\n",
      "Epoch 6/10\n",
      "32/32 [==============================] - 25s 784ms/step - loss: 1.7182 - accuracy: 0.6285 - val_loss: 2.1648 - val_accuracy: 0.5335\n",
      "Epoch 7/10\n",
      "32/32 [==============================] - 25s 789ms/step - loss: 1.5225 - accuracy: 0.6645 - val_loss: 2.0709 - val_accuracy: 0.5395\n",
      "Epoch 8/10\n",
      "32/32 [==============================] - 25s 789ms/step - loss: 1.3566 - accuracy: 0.7095 - val_loss: 2.0002 - val_accuracy: 0.5590\n",
      "Epoch 9/10\n",
      "32/32 [==============================] - 25s 788ms/step - loss: 1.2090 - accuracy: 0.7400 - val_loss: 1.9550 - val_accuracy: 0.5570\n",
      "Epoch 10/10\n",
      "32/32 [==============================] - 25s 786ms/step - loss: 1.1037 - accuracy: 0.7580 - val_loss: 1.9086 - val_accuracy: 0.5600\n"
     ]
    },
    {
     "data": {
      "text/plain": [
       "<keras.src.callbacks.History at 0x1459e4f4cd0>"
      ]
     },
     "execution_count": 11,
     "metadata": {},
     "output_type": "execute_result"
    }
   ],
   "source": [
    "model.fit(x_train, y_train, batch_size=64, epochs=10, validation_data=(x_test, y_test))"
   ]
  },
  {
   "cell_type": "code",
   "execution_count": 12,
   "id": "dd74f9db",
   "metadata": {},
   "outputs": [
    {
     "name": "stdout",
     "output_type": "stream",
     "text": [
      "Epoch 1/20\n",
      "32/32 [==============================] - 31s 973ms/step - loss: 3.2501 - accuracy: 0.3205 - val_loss: 2.4281 - val_accuracy: 0.4625\n",
      "Epoch 2/20\n",
      "32/32 [==============================] - 31s 993ms/step - loss: 1.9535 - accuracy: 0.5460 - val_loss: 1.9240 - val_accuracy: 0.5600\n",
      "Epoch 3/20\n",
      "32/32 [==============================] - 31s 997ms/step - loss: 1.2925 - accuracy: 0.6715 - val_loss: 1.7384 - val_accuracy: 0.5845\n",
      "Epoch 4/20\n",
      "32/32 [==============================] - 30s 935ms/step - loss: 0.7884 - accuracy: 0.7875 - val_loss: 1.5832 - val_accuracy: 0.6135\n",
      "Epoch 5/20\n",
      "32/32 [==============================] - 30s 937ms/step - loss: 0.5094 - accuracy: 0.8675 - val_loss: 1.6411 - val_accuracy: 0.6145\n",
      "Epoch 6/20\n",
      "32/32 [==============================] - 30s 956ms/step - loss: 0.2911 - accuracy: 0.9170 - val_loss: 1.7153 - val_accuracy: 0.6160\n",
      "Epoch 7/20\n",
      "32/32 [==============================] - 29s 920ms/step - loss: 0.2042 - accuracy: 0.9455 - val_loss: 1.7285 - val_accuracy: 0.6275\n",
      "Epoch 8/20\n",
      "32/32 [==============================] - 29s 926ms/step - loss: 0.1301 - accuracy: 0.9630 - val_loss: 1.8139 - val_accuracy: 0.6265\n",
      "Epoch 9/20\n",
      "32/32 [==============================] - 31s 987ms/step - loss: 0.1210 - accuracy: 0.9680 - val_loss: 1.8781 - val_accuracy: 0.6300\n",
      "Epoch 10/20\n",
      "32/32 [==============================] - 32s 1s/step - loss: 0.1015 - accuracy: 0.9715 - val_loss: 1.8536 - val_accuracy: 0.6270\n",
      "Epoch 11/20\n",
      "32/32 [==============================] - 31s 994ms/step - loss: 0.0675 - accuracy: 0.9825 - val_loss: 1.7923 - val_accuracy: 0.6335\n",
      "Epoch 12/20\n",
      "32/32 [==============================] - 31s 977ms/step - loss: 0.0372 - accuracy: 0.9945 - val_loss: 1.9291 - val_accuracy: 0.6325\n",
      "Epoch 13/20\n",
      "32/32 [==============================] - 29s 926ms/step - loss: 0.0311 - accuracy: 0.9935 - val_loss: 1.8795 - val_accuracy: 0.6415\n",
      "Epoch 14/20\n",
      "32/32 [==============================] - 29s 919ms/step - loss: 0.0342 - accuracy: 0.9930 - val_loss: 1.7908 - val_accuracy: 0.6485\n",
      "Epoch 15/20\n",
      "32/32 [==============================] - 29s 922ms/step - loss: 0.0273 - accuracy: 0.9930 - val_loss: 1.8395 - val_accuracy: 0.6430\n",
      "Epoch 16/20\n",
      "32/32 [==============================] - 29s 920ms/step - loss: 0.0271 - accuracy: 0.9920 - val_loss: 1.9255 - val_accuracy: 0.6450\n",
      "Epoch 17/20\n",
      "32/32 [==============================] - 30s 937ms/step - loss: 0.0155 - accuracy: 0.9950 - val_loss: 1.8727 - val_accuracy: 0.6555\n",
      "Epoch 18/20\n",
      "32/32 [==============================] - 29s 934ms/step - loss: 0.0193 - accuracy: 0.9950 - val_loss: 1.9500 - val_accuracy: 0.6395\n",
      "Epoch 19/20\n",
      "32/32 [==============================] - 30s 943ms/step - loss: 0.0210 - accuracy: 0.9965 - val_loss: 2.0985 - val_accuracy: 0.6380\n",
      "Epoch 20/20\n",
      "32/32 [==============================] - 33s 1s/step - loss: 0.0271 - accuracy: 0.9945 - val_loss: 1.9421 - val_accuracy: 0.6405\n"
     ]
    },
    {
     "data": {
      "text/plain": [
       "<keras.src.callbacks.History at 0x1459e91c790>"
      ]
     },
     "execution_count": 12,
     "metadata": {},
     "output_type": "execute_result"
    }
   ],
   "source": [
    "base_model = VGG16(weights=weights_path, include_top=False, input_shape=(64, 64, 3))\n",
    "# freeze all layers first\n",
    "for layer in base_model.layers:\n",
    "   layer.trainable = False\n",
    "# unfreeze last 4 layers of base model\n",
    "for layer in base_model.layers[len(base_model.layers) - 2:]:\n",
    "   layer.trainable = True\n",
    "# fine-tuning hyper parameters\n",
    "x = Flatten()(base_model.output)\n",
    "x = Dense(512, activation='relu')(x)\n",
    "x = tf.keras.layers.Dropout(0.3)(x)\n",
    "predictions = Dense(102, activation='softmax')(x)\n",
    "\n",
    "# Create the model\n",
    "model = Model(inputs=base_model.input, outputs=predictions)\n",
    "# Compile the model\n",
    "model.compile(optimizer=Adam(learning_rate=0.001), loss='categorical_crossentropy', metrics=['accuracy'])\n",
    "# training fine tuned model\n",
    "model.fit(x_train, y_train, batch_size=64, epochs=20, validation_data=(x_test, y_test))\n"
   ]
  },
  {
   "cell_type": "code",
   "execution_count": 13,
   "id": "9a09850d",
   "metadata": {},
   "outputs": [
    {
     "name": "stdout",
     "output_type": "stream",
     "text": [
      "63/63 [==============================] - 15s 238ms/step\n"
     ]
    }
   ],
   "source": [
    "import matplotlib.pyplot as plt\n",
    "predicted_value = model.predict(x_test)"
   ]
  },
  {
   "cell_type": "code",
   "execution_count": 14,
   "id": "91552a80",
   "metadata": {},
   "outputs": [],
   "source": [
    "labels = list(dataset_generator.class_indices.keys())"
   ]
  },
  {
   "cell_type": "code",
   "execution_count": 15,
   "id": "4b877967",
   "metadata": {},
   "outputs": [
    {
     "name": "stdout",
     "output_type": "stream",
     "text": [
      "Preditcted:  grand_piano\n",
      "Actual:  grand_piano\n"
     ]
    },
    {
     "data": {
      "image/png": "[encoded data removed]",
      "text/plain": [
       "<Figure size 640x480 with 1 Axes>"
      ]
     },
     "metadata": {},
     "output_type": "display_data"
    }
   ],
   "source": [
    "n = 887\n",
    "\n",
    "plt.imshow(x_test[n])\n",
    "print(\"Preditcted: \",labels[np.argmax(predicted_value[n])])\n",
    "print(\"Actual: \", labels[np.argmax(y_test[n])])"
   ]
  },
  {
   "cell_type": "code",
   "execution_count": null,
   "id": "6a706e69",
   "metadata": {},
   "outputs": [],
   "source": []
  }
 ],
 "metadata": {
  "kernelspec": {
   "display_name": "Python 3 (ipykernel)",
   "language": "python",
   "name": "python3"
  },
  "language_info": {
   "codemirror_mode": {
    "name": "ipython",
    "version": 3
   },
   "file_extension": ".py",
   "mimetype": "text/x-python",
   "name": "python",
   "nbconvert_exporter": "python",
   "pygments_lexer": "ipython3",
   "version": "3.9.5"
  }
 },
 "nbformat": 4,
 "nbformat_minor": 5
}
