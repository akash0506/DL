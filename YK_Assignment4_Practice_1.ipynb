{
 "cells": [
  {
   "cell_type": "markdown",
   "id": "4d6af5e8",
   "metadata": {},
   "source": [
    "# Anomally Detection using Autoencoders (ECG dataset)"
   ]
  },
  {
   "cell_type": "markdown",
   "id": "ba2ace17",
   "metadata": {},
   "source": [
    "# Imports"
   ]
  },
  {
   "cell_type": "code",
   "execution_count": 1,
   "id": "f8048299",
   "metadata": {},
   "outputs": [],
   "source": [
    "import warnings\n",
    "warnings.filterwarnings(\"ignore\", category=UserWarning)"
   ]
  },
  {
   "cell_type": "code",
   "execution_count": 2,
   "id": "1e1848ab",
   "metadata": {},
   "outputs": [],
   "source": [
    "import numpy as np\n",
    "import pandas as pd\n",
    "import matplotlib.pyplot as plt\n",
    "from sklearn.metrics import accuracy_score\n",
    "from sklearn.preprocessing import MinMaxScaler\n",
    "from sklearn.model_selection import train_test_split\n",
    "from tensorflow.keras import Model, Sequential\n",
    "from tensorflow.keras.losses import msle\n",
    "from tensorflow.keras.layers import Dropout, Dense"
   ]
  },
  {
   "cell_type": "markdown",
   "id": "99e6eab7",
   "metadata": {},
   "source": [
    "# Load Data"
   ]
  },
  {
   "cell_type": "code",
   "execution_count": 3,
   "id": "28d3051b",
   "metadata": {},
   "outputs": [
    {
     "data": {
      "text/html": [
       "<div>\n",
       "<style scoped>\n",
       "    .dataframe tbody tr th:only-of-type {\n",
       "        vertical-align: middle;\n",
       "    }\n",
       "\n",
       "    .dataframe tbody tr th {\n",
       "        vertical-align: top;\n",
       "    }\n",
       "\n",
       "    .dataframe thead th {\n",
       "        text-align: right;\n",
       "    }\n",
       "</style>\n",
       "<table border=\"1\" class=\"dataframe\">\n",
       "  <thead>\n",
       "    <tr style=\"text-align: right;\">\n",
       "      <th></th>\n",
       "      <th>0</th>\n",
       "      <th>1</th>\n",
       "      <th>2</th>\n",
       "      <th>3</th>\n",
       "      <th>4</th>\n",
       "      <th>5</th>\n",
       "      <th>6</th>\n",
       "      <th>7</th>\n",
       "      <th>8</th>\n",
       "      <th>9</th>\n",
       "      <th>...</th>\n",
       "      <th>131</th>\n",
       "      <th>132</th>\n",
       "      <th>133</th>\n",
       "      <th>134</th>\n",
       "      <th>135</th>\n",
       "      <th>136</th>\n",
       "      <th>137</th>\n",
       "      <th>138</th>\n",
       "      <th>139</th>\n",
       "      <th>140</th>\n",
       "    </tr>\n",
       "  </thead>\n",
       "  <tbody>\n",
       "    <tr>\n",
       "      <th>0</th>\n",
       "      <td>-0.112522</td>\n",
       "      <td>-2.827204</td>\n",
       "      <td>-3.773897</td>\n",
       "      <td>-4.349751</td>\n",
       "      <td>-4.376041</td>\n",
       "      <td>-3.474986</td>\n",
       "      <td>-2.181408</td>\n",
       "      <td>-1.818286</td>\n",
       "      <td>-1.250522</td>\n",
       "      <td>-0.477492</td>\n",
       "      <td>...</td>\n",
       "      <td>0.792168</td>\n",
       "      <td>0.933541</td>\n",
       "      <td>0.796958</td>\n",
       "      <td>0.578621</td>\n",
       "      <td>0.257740</td>\n",
       "      <td>0.228077</td>\n",
       "      <td>0.123431</td>\n",
       "      <td>0.925286</td>\n",
       "      <td>0.193137</td>\n",
       "      <td>1</td>\n",
       "    </tr>\n",
       "    <tr>\n",
       "      <th>1</th>\n",
       "      <td>-1.100878</td>\n",
       "      <td>-3.996840</td>\n",
       "      <td>-4.285843</td>\n",
       "      <td>-4.506579</td>\n",
       "      <td>-4.022377</td>\n",
       "      <td>-3.234368</td>\n",
       "      <td>-1.566126</td>\n",
       "      <td>-0.992258</td>\n",
       "      <td>-0.754680</td>\n",
       "      <td>0.042321</td>\n",
       "      <td>...</td>\n",
       "      <td>0.538356</td>\n",
       "      <td>0.656881</td>\n",
       "      <td>0.787490</td>\n",
       "      <td>0.724046</td>\n",
       "      <td>0.555784</td>\n",
       "      <td>0.476333</td>\n",
       "      <td>0.773820</td>\n",
       "      <td>1.119621</td>\n",
       "      <td>-1.436250</td>\n",
       "      <td>1</td>\n",
       "    </tr>\n",
       "    <tr>\n",
       "      <th>2</th>\n",
       "      <td>-0.567088</td>\n",
       "      <td>-2.593450</td>\n",
       "      <td>-3.874230</td>\n",
       "      <td>-4.584095</td>\n",
       "      <td>-4.187449</td>\n",
       "      <td>-3.151462</td>\n",
       "      <td>-1.742940</td>\n",
       "      <td>-1.490659</td>\n",
       "      <td>-1.183580</td>\n",
       "      <td>-0.394229</td>\n",
       "      <td>...</td>\n",
       "      <td>0.886073</td>\n",
       "      <td>0.531452</td>\n",
       "      <td>0.311377</td>\n",
       "      <td>-0.021919</td>\n",
       "      <td>-0.713683</td>\n",
       "      <td>-0.532197</td>\n",
       "      <td>0.321097</td>\n",
       "      <td>0.904227</td>\n",
       "      <td>-0.421797</td>\n",
       "      <td>1</td>\n",
       "    </tr>\n",
       "    <tr>\n",
       "      <th>3</th>\n",
       "      <td>0.490473</td>\n",
       "      <td>-1.914407</td>\n",
       "      <td>-3.616364</td>\n",
       "      <td>-4.318823</td>\n",
       "      <td>-4.268016</td>\n",
       "      <td>-3.881110</td>\n",
       "      <td>-2.993280</td>\n",
       "      <td>-1.671131</td>\n",
       "      <td>-1.333884</td>\n",
       "      <td>-0.965629</td>\n",
       "      <td>...</td>\n",
       "      <td>0.350816</td>\n",
       "      <td>0.499111</td>\n",
       "      <td>0.600345</td>\n",
       "      <td>0.842069</td>\n",
       "      <td>0.952074</td>\n",
       "      <td>0.990133</td>\n",
       "      <td>1.086798</td>\n",
       "      <td>1.403011</td>\n",
       "      <td>-0.383564</td>\n",
       "      <td>1</td>\n",
       "    </tr>\n",
       "    <tr>\n",
       "      <th>4</th>\n",
       "      <td>0.800232</td>\n",
       "      <td>-0.874252</td>\n",
       "      <td>-2.384761</td>\n",
       "      <td>-3.973292</td>\n",
       "      <td>-4.338224</td>\n",
       "      <td>-3.802422</td>\n",
       "      <td>-2.534510</td>\n",
       "      <td>-1.783423</td>\n",
       "      <td>-1.594450</td>\n",
       "      <td>-0.753199</td>\n",
       "      <td>...</td>\n",
       "      <td>1.148884</td>\n",
       "      <td>0.958434</td>\n",
       "      <td>1.059025</td>\n",
       "      <td>1.371682</td>\n",
       "      <td>1.277392</td>\n",
       "      <td>0.960304</td>\n",
       "      <td>0.971020</td>\n",
       "      <td>1.614392</td>\n",
       "      <td>1.421456</td>\n",
       "      <td>1</td>\n",
       "    </tr>\n",
       "  </tbody>\n",
       "</table>\n",
       "<p>5 rows × 141 columns</p>\n",
       "</div>"
      ],
      "text/plain": [
       "        0         1         2         3         4         5         6    \\\n",
       "0 -0.112522 -2.827204 -3.773897 -4.349751 -4.376041 -3.474986 -2.181408   \n",
       "1 -1.100878 -3.996840 -4.285843 -4.506579 -4.022377 -3.234368 -1.566126   \n",
       "2 -0.567088 -2.593450 -3.874230 -4.584095 -4.187449 -3.151462 -1.742940   \n",
       "3  0.490473 -1.914407 -3.616364 -4.318823 -4.268016 -3.881110 -2.993280   \n",
       "4  0.800232 -0.874252 -2.384761 -3.973292 -4.338224 -3.802422 -2.534510   \n",
       "\n",
       "        7         8         9    ...       131       132       133       134  \\\n",
       "0 -1.818286 -1.250522 -0.477492  ...  0.792168  0.933541  0.796958  0.578621   \n",
       "1 -0.992258 -0.754680  0.042321  ...  0.538356  0.656881  0.787490  0.724046   \n",
       "2 -1.490659 -1.183580 -0.394229  ...  0.886073  0.531452  0.311377 -0.021919   \n",
       "3 -1.671131 -1.333884 -0.965629  ...  0.350816  0.499111  0.600345  0.842069   \n",
       "4 -1.783423 -1.594450 -0.753199  ...  1.148884  0.958434  1.059025  1.371682   \n",
       "\n",
       "        135       136       137       138       139  140  \n",
       "0  0.257740  0.228077  0.123431  0.925286  0.193137    1  \n",
       "1  0.555784  0.476333  0.773820  1.119621 -1.436250    1  \n",
       "2 -0.713683 -0.532197  0.321097  0.904227 -0.421797    1  \n",
       "3  0.952074  0.990133  1.086798  1.403011 -0.383564    1  \n",
       "4  1.277392  0.960304  0.971020  1.614392  1.421456    1  \n",
       "\n",
       "[5 rows x 141 columns]"
      ]
     },
     "execution_count": 3,
     "metadata": {},
     "output_type": "execute_result"
    }
   ],
   "source": [
    "df = pd.read_csv(\"ecg.csv\", header=None)\n",
    "df.head()"
   ]
  },
  {
   "cell_type": "code",
   "execution_count": 4,
   "id": "ccefa49b",
   "metadata": {},
   "outputs": [
    {
     "data": {
      "text/plain": [
       "(4998, 141)"
      ]
     },
     "execution_count": 4,
     "metadata": {},
     "output_type": "execute_result"
    }
   ],
   "source": [
    "df.shape"
   ]
  },
  {
   "cell_type": "code",
   "execution_count": 5,
   "id": "e0e97e12",
   "metadata": {},
   "outputs": [],
   "source": [
    "features = df.drop(140,axis=1)\n",
    "target = df[140]"
   ]
  },
  {
   "cell_type": "code",
   "execution_count": 6,
   "id": "d26f7c84",
   "metadata": {},
   "outputs": [],
   "source": [
    "X_train, X_test, Y_train, Y_test = train_test_split(features, target, test_size=0.2)"
   ]
  },
  {
   "cell_type": "code",
   "execution_count": 7,
   "id": "0e1397b6",
   "metadata": {},
   "outputs": [],
   "source": [
    "scaler = MinMaxScaler()\n",
    "X_train = scaler.fit_transform(X_train)\n",
    "X_test = scaler.transform(X_test)"
   ]
  },
  {
   "cell_type": "markdown",
   "id": "6118c55a",
   "metadata": {},
   "source": [
    "# Create Autoencoder"
   ]
  },
  {
   "cell_type": "code",
   "execution_count": 8,
   "id": "1a39e847",
   "metadata": {},
   "outputs": [],
   "source": [
    "class Autoencoder(Model):\n",
    "    def __init__(self, outputs):\n",
    "        super().__init__()\n",
    "        self.encoder = Sequential([\n",
    "            Dense(512, activation=\"relu\"),\n",
    "            Dropout(0.1),\n",
    "            Dense(128, activation=\"relu\"),\n",
    "            Dropout(0.1),\n",
    "            Dense(64, activation=\"relu\")\n",
    "        ])\n",
    "        self.decoder = Sequential([\n",
    "            Dense(64, activation=\"relu\"),\n",
    "            Dropout(0.1),\n",
    "            Dense(128, activation=\"relu\"),\n",
    "            Dropout(0.1),\n",
    "            Dense(512, activation=\"relu\"),\n",
    "            Dropout(0.1),\n",
    "            Dense(outputs, activation=\"sigmoid\")\n",
    "        ])\n",
    "    def call(self, inputs):\n",
    "        code = self.encoder(inputs)\n",
    "        return self.decoder(code)"
   ]
  },
  {
   "cell_type": "code",
   "execution_count": 9,
   "id": "357a0bf7",
   "metadata": {},
   "outputs": [],
   "source": [
    "model = Autoencoder(X_train.shape[1])\n",
    "model.compile(loss=\"msle\", optimizer=\"adam\", metrics=[\"mse\"])"
   ]
  },
  {
   "cell_type": "code",
   "execution_count": 10,
   "id": "40ee9373",
   "metadata": {},
   "outputs": [
    {
     "name": "stdout",
     "output_type": "stream",
     "text": [
      "Epoch 1/11\n",
      "125/125 [==============================] - 2s 6ms/step - loss: 0.0036 - mse: 0.0085 - val_loss: 0.0019 - val_mse: 0.0046\n",
      "Epoch 2/11\n",
      "125/125 [==============================] - 1s 5ms/step - loss: 0.0019 - mse: 0.0044 - val_loss: 0.0012 - val_mse: 0.0029\n",
      "Epoch 3/11\n",
      "125/125 [==============================] - 1s 5ms/step - loss: 0.0013 - mse: 0.0031 - val_loss: 8.5217e-04 - val_mse: 0.0021\n",
      "Epoch 4/11\n",
      "125/125 [==============================] - 1s 5ms/step - loss: 0.0011 - mse: 0.0025 - val_loss: 8.6323e-04 - val_mse: 0.0021\n",
      "Epoch 5/11\n",
      "125/125 [==============================] - 1s 5ms/step - loss: 9.5407e-04 - mse: 0.0023 - val_loss: 7.2832e-04 - val_mse: 0.0018\n",
      "Epoch 6/11\n",
      "125/125 [==============================] - 1s 5ms/step - loss: 8.7923e-04 - mse: 0.0021 - val_loss: 6.3652e-04 - val_mse: 0.0016\n",
      "Epoch 7/11\n",
      "125/125 [==============================] - 1s 5ms/step - loss: 8.1249e-04 - mse: 0.0019 - val_loss: 6.1140e-04 - val_mse: 0.0015\n",
      "Epoch 8/11\n",
      "125/125 [==============================] - 1s 5ms/step - loss: 7.6469e-04 - mse: 0.0018 - val_loss: 5.7249e-04 - val_mse: 0.0014\n",
      "Epoch 9/11\n",
      "125/125 [==============================] - 1s 5ms/step - loss: 7.2040e-04 - mse: 0.0017 - val_loss: 5.6309e-04 - val_mse: 0.0014\n",
      "Epoch 10/11\n",
      "125/125 [==============================] - 1s 5ms/step - loss: 7.0592e-04 - mse: 0.0017 - val_loss: 5.0166e-04 - val_mse: 0.0013\n",
      "Epoch 11/11\n",
      "125/125 [==============================] - 1s 5ms/step - loss: 6.7564e-04 - mse: 0.0016 - val_loss: 5.0017e-04 - val_mse: 0.0013\n"
     ]
    }
   ],
   "source": [
    "e = 11\n",
    "H = model.fit(X_train, X_train, validation_data=(X_test, X_test),epochs=e)"
   ]
  },
  {
   "cell_type": "markdown",
   "id": "9fb3fa45",
   "metadata": {},
   "source": [
    "# Plot MSE loss"
   ]
  },
  {
   "cell_type": "code",
   "execution_count": 11,
   "id": "30e16538",
   "metadata": {},
   "outputs": [
    {
     "data": {
      "text/plain": [
       "<matplotlib.legend.Legend at 0x2486d9d9eb0>"
      ]
     },
     "execution_count": 11,
     "metadata": {},
     "output_type": "execute_result"
    },
    {
     "data": {
      "image/png": "[encoded data removed]",
      "text/plain": [
       "<Figure size 640x480 with 1 Axes>"
      ]
     },
     "metadata": {},
     "output_type": "display_data"
    }
   ],
   "source": [
    "plt.style.use(\"ggplot\")\n",
    "plt.plot(np.arange(0,e), H.history[\"loss\"], label=\"loss\")\n",
    "plt.plot(np.arange(0,e), H.history[\"val_loss\"], label=\"val_loss\")\n",
    "plt.xlabel(\"Epochs\")\n",
    "plt.ylabel(\"Loss\")\n",
    "plt.title(\"MSE loss\")\n",
    "plt.legend()"
   ]
  },
  {
   "cell_type": "markdown",
   "id": "5f0af87c",
   "metadata": {},
   "source": [
    "# Find Threshold"
   ]
  },
  {
   "cell_type": "code",
   "execution_count": 12,
   "id": "1e218295",
   "metadata": {},
   "outputs": [],
   "source": [
    "reconstructions = model(X_train)\n",
    "reconstruction_errors = msle(reconstructions, X_train)"
   ]
  },
  {
   "cell_type": "code",
   "execution_count": 13,
   "id": "8b2503b8",
   "metadata": {},
   "outputs": [],
   "source": [
    "threshold = np.mean(reconstruction_errors.numpy()) + np.std(reconstruction_errors.numpy())"
   ]
  },
  {
   "cell_type": "code",
   "execution_count": 14,
   "id": "1f455463",
   "metadata": {},
   "outputs": [
    {
     "data": {
      "text/plain": [
       "0.001599844521174981"
      ]
     },
     "execution_count": 14,
     "metadata": {},
     "output_type": "execute_result"
    }
   ],
   "source": [
    "threshold"
   ]
  },
  {
   "cell_type": "code",
   "execution_count": 15,
   "id": "db64f78c",
   "metadata": {},
   "outputs": [],
   "source": [
    "pred = model(X_test)\n",
    "pred_errors = msle(pred, X_test)"
   ]
  },
  {
   "cell_type": "code",
   "execution_count": 16,
   "id": "abe4e00c",
   "metadata": {},
   "outputs": [],
   "source": [
    "out = []\n",
    "for error in pred_errors:\n",
    "    if error > threshold:\n",
    "        out.append(0)\n",
    "    else:\n",
    "        out.append(1)"
   ]
  },
  {
   "cell_type": "code",
   "execution_count": 17,
   "id": "3c0ed756",
   "metadata": {},
   "outputs": [
    {
     "data": {
      "text/plain": [
       "0.608"
      ]
     },
     "execution_count": 17,
     "metadata": {},
     "output_type": "execute_result"
    }
   ],
   "source": [
    "accuracy_score(out,Y_test)"
   ]
  },
  {
   "cell_type": "code",
   "execution_count": null,
   "id": "102209a9",
   "metadata": {},
   "outputs": [],
   "source": []
  }
 ],
 "metadata": {
  "kernelspec": {
   "display_name": "Python 3 (ipykernel)",
   "language": "python",
   "name": "python3"
  },
  "language_info": {
   "codemirror_mode": {
    "name": "ipython",
    "version": 3
   },
   "file_extension": ".py",
   "mimetype": "text/x-python",
   "name": "python",
   "nbconvert_exporter": "python",
   "pygments_lexer": "ipython3",
   "version": "3.9.5"
  }
 },
 "nbformat": 4,
 "nbformat_minor": 5
}
